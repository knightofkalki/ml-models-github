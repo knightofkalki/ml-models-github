{
 "cells": [
  {
   "cell_type": "code",
   "execution_count": 10,
   "id": "1bf2e11d-15bf-4b85-884c-23292ffaf802",
   "metadata": {},
   "outputs": [
    {
     "ename": "ModuleNotFoundError",
     "evalue": "No module named 'mediapipe'",
     "output_type": "error",
     "traceback": [
      "\u001b[1;31m---------------------------------------------------------------------------\u001b[0m",
      "\u001b[1;31mModuleNotFoundError\u001b[0m                       Traceback (most recent call last)",
      "Cell \u001b[1;32mIn[10], line 2\u001b[0m\n\u001b[0;32m      1\u001b[0m \u001b[38;5;28;01mimport\u001b[39;00m \u001b[38;5;21;01mcv2\u001b[39;00m\n\u001b[1;32m----> 2\u001b[0m \u001b[38;5;28;01mimport\u001b[39;00m \u001b[38;5;21;01mmediapipe\u001b[39;00m \u001b[38;5;28;01mas\u001b[39;00m \u001b[38;5;21;01mmp\u001b[39;00m\n\u001b[0;32m      3\u001b[0m \u001b[38;5;28;01mfrom\u001b[39;00m \u001b[38;5;21;01mdeepface\u001b[39;00m \u001b[38;5;28;01mimport\u001b[39;00m DeepFace\n\u001b[0;32m      4\u001b[0m \u001b[38;5;28;01mimport\u001b[39;00m \u001b[38;5;21;01mtkinter\u001b[39;00m \u001b[38;5;28;01mas\u001b[39;00m \u001b[38;5;21;01mtk\u001b[39;00m\n",
      "\u001b[1;31mModuleNotFoundError\u001b[0m: No module named 'mediapipe'"
     ]
    }
   ],
   "source": [
    "import cv2\n",
    "import mediapipe as mp\n",
    "from deepface import DeepFace\n",
    "import tkinter as tk\n",
    "from PIL import Image, ImageTk\n",
    "import pyttsx3\n",
    "\n",
    "class EmotionGreeter:\n",
    "    def _init_(self, window, window_title):\n",
    "        self.window = window\n",
    "        self.window.title(window_title)\n",
    "\n",
    "        # Initialize text-to-speech engine\n",
    "        self.tts_engine = pyttsx3.init()\n",
    "\n",
    "        # Video capture\n",
    "        self.vid = cv2.VideoCapture(0)\n",
    "\n",
    "        # Mediapipe hand detection\n",
    "        self.mp_hands = mp.solutions.hands\n",
    "        self.hands = self.mp_hands.Hands(max_num_hands=1)\n",
    "\n",
    "        # Canvas for video\n",
    "        self.canvas = tk.Canvas(window, width=self.vid.get(cv2.CAP_PROP_FRAME_WIDTH), \n",
    "                                height=self.vid.get(cv2.CAP_PROP_FRAME_HEIGHT))\n",
    "        self.canvas.pack()\n",
    "\n",
    "        # Emotion label\n",
    "        self.emotion_label = tk.Label(window, text=\"Show your palm\", \n",
    "                                      font=(\"Arial\", 16))\n",
    "        self.emotion_label.pack()\n",
    "\n",
    "        # Greeting label\n",
    "        self.greeting_label = tk.Label(window, text=\"\", font=(\"Arial\", 16), fg=\"blue\")\n",
    "        self.greeting_label.pack()\n",
    "\n",
    "        self.current_emotion = \"Waiting...\"\n",
    "\n",
    "        # Update video frames\n",
    "        self.delay = 15\n",
    "        self.update_video()\n",
    "\n",
    "        # Quit button\n",
    "        self.btn_quit = tk.Button(window, text=\"Quit\", width=10, \n",
    "                                  command=self.quit_app)\n",
    "        self.btn_quit.pack()\n",
    "\n",
    "    def detect_palm(self, frame):\n",
    "        # Convert BGR to RGB\n",
    "        rgb_frame = cv2.cvtColor(frame, cv2.COLOR_BGR2RGB)\n",
    "\n",
    "        # Process frame for hand detection\n",
    "        results = self.hands.process(rgb_frame)\n",
    "\n",
    "        if results.multi_hand_landmarks:\n",
    "            for hand_landmarks in results.multi_hand_landmarks:\n",
    "                # Check if palm is open (all fingers extended)\n",
    "                if self.is_palm_open(hand_landmarks):\n",
    "                    return True\n",
    "        return False\n",
    "\n",
    "    def is_palm_open(self, hand_landmarks):\n",
    "        # Simple palm detection by checking finger tip y-coordinates\n",
    "        tips = [\n",
    "            hand_landmarks.landmark[self.mp_hands.HandLandmark.THUMB_TIP],\n",
    "            hand_landmarks.landmark[self.mp_hands.HandLandmark.INDEX_FINGER_TIP],\n",
    "            hand_landmarks.landmark[self.mp_hands.HandLandmark.MIDDLE_FINGER_TIP],\n",
    "            hand_landmarks.landmark[self.mp_hands.HandLandmark.RING_FINGER_TIP],\n",
    "            hand_landmarks.landmark[self.mp_hands.HandLandmark.PINKY_TIP]\n",
    "        ]\n",
    "\n",
    "        # Check if tips are spread out\n",
    "        return all(tip.y < hand_landmarks.landmark[self.mp_hands.HandLandmark.WRIST].y for tip in tips)\n",
    "\n",
    "    def update_video(self):\n",
    "        ret, frame = self.vid.read()\n",
    "        if ret:\n",
    "            # Detect palm\n",
    "            if self.detect_palm(frame):\n",
    "                try:\n",
    "                    # Predict emotion when palm is open\n",
    "                    result = DeepFace.analyze(\n",
    "                        frame, \n",
    "                        actions=['emotion'], \n",
    "                        enforce_detection=False\n",
    "                    )\n",
    "                    self.current_emotion = result[0]['dominant_emotion']\n",
    "                    self.display_greeting(self.current_emotion)\n",
    "                except Exception as e:\n",
    "                    self.current_emotion = \"Detection Error\"\n",
    "\n",
    "            # Update emotion label\n",
    "            self.emotion_label.config(text=f\"Emotion: {self.current_emotion}\")\n",
    "\n",
    "            # Convert to PhotoImage\n",
    "            self.photo = ImageTk.PhotoImage(image=Image.fromarray(cv2.cvtColor(frame, cv2.COLOR_BGR2RGB)))\n",
    "            self.canvas.create_image(0, 0, image=self.photo, anchor=tk.NW)\n",
    "\n",
    "        self.window.after(self.delay, self.update_video)\n",
    "\n",
    "    def display_greeting(self, emotion):\n",
    "        greetings = {\n",
    "            \"happy\": \"Welcome to Kalkini! We're thrilled to see your happiness!\",\n",
    "            \"sad\": \"Welcome to Kalkini! Let us brighten your day with our innovations!\",\n",
    "            \"angry\": \"Welcome to Kalkini! Let's find calmness together through technology!\",\n",
    "            \"surprise\": \"Welcome to Kalkini! Our technology is full of surprises, isn't it?\",\n",
    "            \"neutral\": \"Welcome to Kalkini! Discover the future of smart A.I. cameras!\",\n",
    "            \"fear\": \"Welcome to Kalkini! Rest assured, you're in safe hands with us!\",\n",
    "            \"disgust\": \"Welcome to Kalkini! Let us change that expression with our amazing products!\"\n",
    "        }\n",
    "        \n",
    "        greeting = greetings.get(emotion.lower(), \"Hello there! Show your palm to see a greeting.\")\n",
    "        self.greeting_label.config(text=greeting)\n",
    "        self.speak_greeting(greeting)\n",
    "\n",
    "    def speak_greeting(self, greeting):\n",
    "        self.tts_engine.say(greeting)\n",
    "        self.tts_engine.runAndWait()\n",
    "\n",
    "    def quit_app(self):\n",
    "        self.vid.release()\n",
    "        self.window.destroy()\n",
    "\n",
    "# Create a window and pass it to EmotionGreeter\n",
    "root = tk.Tk()\n",
    "app = EmotionGreeter(root, \"Emotion-Based Greeting\")\n",
    "root.mainloop()"
   ]
  },
  {
   "cell_type": "code",
   "execution_count": 3,
   "id": "5f64a7c5-9d96-4dc2-9328-2e4b6c694d78",
   "metadata": {},
   "outputs": [
    {
     "name": "stderr",
     "output_type": "stream",
     "text": [
      "'{sys.executable}' is not recognized as an internal or external command,\n",
      "operable program or batch file.\n"
     ]
    }
   ],
   "source": [
    "!{sys.executable} -m pip install mediapipe"
   ]
  },
  {
   "cell_type": "code",
   "execution_count": 4,
   "id": "473d6d72-6b61-4977-8c2f-9f0ba373bd55",
   "metadata": {},
   "outputs": [
    {
     "data": {
      "text/plain": [
       "'C:\\\\Users\\\\apoor\\\\anaconda3\\\\python.exe'"
      ]
     },
     "execution_count": 4,
     "metadata": {},
     "output_type": "execute_result"
    }
   ],
   "source": [
    "import sys\n",
    "sys.executable\n"
   ]
  },
  {
   "cell_type": "code",
   "execution_count": 7,
   "id": "0d365a63-9dc0-4457-a4e9-0c9dc8d0f5c5",
   "metadata": {},
   "outputs": [
    {
     "name": "stdout",
     "output_type": "stream",
     "text": [
      "Collecting mediapipe\n",
      "  Using cached mediapipe-0.10.21-cp312-cp312-win_amd64.whl.metadata (10 kB)\n",
      "Requirement already satisfied: absl-py in c:\\users\\apoor\\anaconda3\\lib\\site-packages (from mediapipe) (2.2.2)\n",
      "Requirement already satisfied: attrs>=19.1.0 in c:\\users\\apoor\\anaconda3\\lib\\site-packages (from mediapipe) (23.1.0)\n",
      "Requirement already satisfied: flatbuffers>=2.0 in c:\\users\\apoor\\anaconda3\\lib\\site-packages (from mediapipe) (25.2.10)\n",
      "Collecting jax (from mediapipe)\n",
      "  Using cached jax-0.5.3-py3-none-any.whl.metadata (22 kB)\n",
      "Collecting jaxlib (from mediapipe)\n",
      "  Using cached jaxlib-0.5.3-cp312-cp312-win_amd64.whl.metadata (1.2 kB)\n",
      "Requirement already satisfied: matplotlib in c:\\users\\apoor\\anaconda3\\lib\\site-packages (from mediapipe) (3.9.2)\n",
      "Requirement already satisfied: numpy<2 in c:\\users\\apoor\\anaconda3\\lib\\site-packages (from mediapipe) (1.26.4)\n",
      "Collecting opencv-contrib-python (from mediapipe)\n",
      "  Using cached opencv_contrib_python-4.11.0.86-cp37-abi3-win_amd64.whl.metadata (20 kB)\n",
      "Requirement already satisfied: protobuf<5,>=4.25.3 in c:\\users\\apoor\\anaconda3\\lib\\site-packages (from mediapipe) (4.25.3)\n",
      "Collecting sounddevice>=0.4.4 (from mediapipe)\n",
      "  Using cached sounddevice-0.5.1-py3-none-win_amd64.whl.metadata (1.4 kB)\n",
      "Requirement already satisfied: sentencepiece in c:\\users\\apoor\\anaconda3\\lib\\site-packages (from mediapipe) (0.2.0)\n",
      "Requirement already satisfied: CFFI>=1.0 in c:\\users\\apoor\\anaconda3\\lib\\site-packages (from sounddevice>=0.4.4->mediapipe) (1.17.1)\n",
      "Requirement already satisfied: ml_dtypes>=0.4.0 in c:\\users\\apoor\\anaconda3\\lib\\site-packages (from jax->mediapipe) (0.5.1)\n",
      "Requirement already satisfied: opt_einsum in c:\\users\\apoor\\anaconda3\\lib\\site-packages (from jax->mediapipe) (3.4.0)\n",
      "Requirement already satisfied: scipy>=1.11.1 in c:\\users\\apoor\\anaconda3\\lib\\site-packages (from jax->mediapipe) (1.13.1)\n",
      "Requirement already satisfied: contourpy>=1.0.1 in c:\\users\\apoor\\anaconda3\\lib\\site-packages (from matplotlib->mediapipe) (1.2.0)\n",
      "Requirement already satisfied: cycler>=0.10 in c:\\users\\apoor\\anaconda3\\lib\\site-packages (from matplotlib->mediapipe) (0.11.0)\n",
      "Requirement already satisfied: fonttools>=4.22.0 in c:\\users\\apoor\\anaconda3\\lib\\site-packages (from matplotlib->mediapipe) (4.51.0)\n",
      "Requirement already satisfied: kiwisolver>=1.3.1 in c:\\users\\apoor\\anaconda3\\lib\\site-packages (from matplotlib->mediapipe) (1.4.4)\n",
      "Requirement already satisfied: packaging>=20.0 in c:\\users\\apoor\\anaconda3\\lib\\site-packages (from matplotlib->mediapipe) (24.1)\n",
      "Requirement already satisfied: pillow>=8 in c:\\users\\apoor\\anaconda3\\lib\\site-packages (from matplotlib->mediapipe) (10.4.0)\n",
      "Requirement already satisfied: pyparsing>=2.3.1 in c:\\users\\apoor\\anaconda3\\lib\\site-packages (from matplotlib->mediapipe) (3.1.2)\n",
      "Requirement already satisfied: python-dateutil>=2.7 in c:\\users\\apoor\\anaconda3\\lib\\site-packages (from matplotlib->mediapipe) (2.9.0.post0)\n",
      "Requirement already satisfied: pycparser in c:\\users\\apoor\\anaconda3\\lib\\site-packages (from CFFI>=1.0->sounddevice>=0.4.4->mediapipe) (2.21)\n",
      "Requirement already satisfied: six>=1.5 in c:\\users\\apoor\\anaconda3\\lib\\site-packages (from python-dateutil>=2.7->matplotlib->mediapipe) (1.16.0)\n",
      "Using cached mediapipe-0.10.21-cp312-cp312-win_amd64.whl (51.0 MB)\n",
      "Using cached sounddevice-0.5.1-py3-none-win_amd64.whl (363 kB)\n",
      "Using cached jax-0.5.3-py3-none-any.whl (2.4 MB)\n",
      "Using cached jaxlib-0.5.3-cp312-cp312-win_amd64.whl (65.8 MB)\n",
      "Using cached opencv_contrib_python-4.11.0.86-cp37-abi3-win_amd64.whl (46.2 MB)\n",
      "Installing collected packages: opencv-contrib-python, sounddevice, jaxlib, jax, mediapipe\n",
      "Successfully installed jax-0.5.3 jaxlib-0.5.3 mediapipe-0.10.21 opencv-contrib-python-4.11.0.86 sounddevice-0.5.1\n"
     ]
    }
   ],
   "source": [
    "!C:/Users/apoor/anaconda3/python.exe -m pip install --user mediapipe\n"
   ]
  },
  {
   "cell_type": "code",
   "execution_count": null,
   "id": "a0f6c4f9-80b7-419f-9331-46b4693eb4cb",
   "metadata": {},
   "outputs": [],
   "source": []
  }
 ],
 "metadata": {
  "kernelspec": {
   "display_name": "Python 3 (ipykernel)",
   "language": "python",
   "name": "python3"
  },
  "language_info": {
   "codemirror_mode": {
    "name": "ipython",
    "version": 3
   },
   "file_extension": ".py",
   "mimetype": "text/x-python",
   "name": "python",
   "nbconvert_exporter": "python",
   "pygments_lexer": "ipython3",
   "version": "3.12.7"
  }
 },
 "nbformat": 4,
 "nbformat_minor": 5
}
